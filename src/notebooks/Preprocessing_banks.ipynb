{
 "cells": [
  {
   "cell_type": "markdown",
   "metadata": {},
   "source": [
    "### 📊 Preprocessing Bank Transactions\n",
    "\n",
    "This notebook loads the original Excel file with bank transactions, performs a detailed inspection, and applies data cleaning steps to prepare the dataset for the accounting automation system.\n"
   ]
  },
  {
   "cell_type": "code",
   "execution_count": 24,
   "metadata": {},
   "outputs": [],
   "source": [
    "# Step 1: Load libraries\n",
    "import pandas as pd\n",
    "import re\n",
    "\n",
    "# Set display options for better visibility\n",
    "pd.set_option(\"display.max_columns\", None)\n",
    "pd.set_option(\"display.max_rows\", 100)\n",
    "pd.set_option(\"display.width\", 1000)\n",
    "pd.set_option(\"display.float_format\", \"${:,.2f}\".format)\n",
    "pd.set_option(\"display.precision\", 2)"
   ]
  },
  {
   "cell_type": "code",
   "execution_count": 25,
   "metadata": {},
   "outputs": [
    {
     "name": "stdout",
     "output_type": "stream",
     "text": [
      "✅ File loaded successfully.\n",
      "Shape: (9301, 4)\n",
      "Columns: ['Fecha', 'Movimiento', 'Importe', 'Más datos']\n",
      "Data types:\n",
      " Fecha          object\n",
      "Movimiento     object\n",
      "Importe       float64\n",
      "Más datos      object\n",
      "dtype: object\n",
      "<class 'pandas.core.frame.DataFrame'>\n",
      "RangeIndex: 9301 entries, 0 to 9300\n",
      "Data columns (total 4 columns):\n",
      " #   Column      Non-Null Count  Dtype  \n",
      "---  ------      --------------  -----  \n",
      " 0   Fecha       9300 non-null   object \n",
      " 1   Movimiento  9289 non-null   object \n",
      " 2   Importe     9300 non-null   float64\n",
      " 3   Más datos   9300 non-null   object \n",
      "dtypes: float64(1), object(3)\n",
      "memory usage: 290.8+ KB\n"
     ]
    }
   ],
   "source": [
    "# Step 2: Load the file\n",
    "file_path = \"../data_sample/bancos/Movimientos_bancarios.xls\"\n",
    "df = pd.read_excel(file_path)\n",
    "\n",
    "print(\"✅ File loaded successfully.\")\n",
    "print(f\"Shape: {df.shape}\")\n",
    "df.head()\n",
    "print(\"Columns:\", df.columns.tolist())\n",
    "print(\"Data types:\\n\", df.dtypes)\n",
    "df.info()"
   ]
  },
  {
   "cell_type": "code",
   "execution_count": 26,
   "metadata": {},
   "outputs": [
    {
     "name": "stdout",
     "output_type": "stream",
     "text": [
      "🔍 Null value count:\n",
      "Fecha          1\n",
      "Movimiento    12\n",
      "Importe        1\n",
      "Más datos      1\n",
      "dtype: int64\n"
     ]
    },
    {
     "data": {
      "text/html": [
       "<div>\n",
       "<style scoped>\n",
       "    .dataframe tbody tr th:only-of-type {\n",
       "        vertical-align: middle;\n",
       "    }\n",
       "\n",
       "    .dataframe tbody tr th {\n",
       "        vertical-align: top;\n",
       "    }\n",
       "\n",
       "    .dataframe thead th {\n",
       "        text-align: right;\n",
       "    }\n",
       "</style>\n",
       "<table border=\"1\" class=\"dataframe\">\n",
       "  <thead>\n",
       "    <tr style=\"text-align: right;\">\n",
       "      <th></th>\n",
       "      <th>Fecha</th>\n",
       "      <th>Movimiento</th>\n",
       "      <th>Importe</th>\n",
       "      <th>Más datos</th>\n",
       "    </tr>\n",
       "  </thead>\n",
       "  <tbody>\n",
       "    <tr>\n",
       "      <th>1623</th>\n",
       "      <td>06/04/2016</td>\n",
       "      <td>NaN</td>\n",
       "      <td>$-6.66</td>\n",
       "      <td>...</td>\n",
       "    </tr>\n",
       "    <tr>\n",
       "      <th>1625</th>\n",
       "      <td>05/04/2016</td>\n",
       "      <td>NaN</td>\n",
       "      <td>$-559.42</td>\n",
       "      <td>...</td>\n",
       "    </tr>\n",
       "    <tr>\n",
       "      <th>1626</th>\n",
       "      <td>05/04/2016</td>\n",
       "      <td>NaN</td>\n",
       "      <td>$-508.20</td>\n",
       "      <td>...</td>\n",
       "    </tr>\n",
       "    <tr>\n",
       "      <th>1627</th>\n",
       "      <td>05/04/2016</td>\n",
       "      <td>NaN</td>\n",
       "      <td>$-42.35</td>\n",
       "      <td>...</td>\n",
       "    </tr>\n",
       "    <tr>\n",
       "      <th>1632</th>\n",
       "      <td>01/04/2016</td>\n",
       "      <td>NaN</td>\n",
       "      <td>$-111.19</td>\n",
       "      <td>...</td>\n",
       "    </tr>\n",
       "    <tr>\n",
       "      <th>1644</th>\n",
       "      <td>23/03/2016</td>\n",
       "      <td>NaN</td>\n",
       "      <td>$-151.25</td>\n",
       "      <td>...</td>\n",
       "    </tr>\n",
       "    <tr>\n",
       "      <th>1664</th>\n",
       "      <td>18/03/2016</td>\n",
       "      <td>NaN</td>\n",
       "      <td>$-33.44</td>\n",
       "      <td>...</td>\n",
       "    </tr>\n",
       "    <tr>\n",
       "      <th>1665</th>\n",
       "      <td>18/03/2016</td>\n",
       "      <td>NaN</td>\n",
       "      <td>$-91.72</td>\n",
       "      <td>...</td>\n",
       "    </tr>\n",
       "    <tr>\n",
       "      <th>4968</th>\n",
       "      <td>23/03/2016</td>\n",
       "      <td>NaN</td>\n",
       "      <td>$-151.25</td>\n",
       "      <td>...</td>\n",
       "    </tr>\n",
       "    <tr>\n",
       "      <th>9087</th>\n",
       "      <td>06/04/2016</td>\n",
       "      <td>NaN</td>\n",
       "      <td>$-3.33</td>\n",
       "      <td>...</td>\n",
       "    </tr>\n",
       "    <tr>\n",
       "      <th>9109</th>\n",
       "      <td>23/03/2016</td>\n",
       "      <td>NaN</td>\n",
       "      <td>$-151.25</td>\n",
       "      <td>...</td>\n",
       "    </tr>\n",
       "    <tr>\n",
       "      <th>9300</th>\n",
       "      <td>NaN</td>\n",
       "      <td>NaN</td>\n",
       "      <td>NaN</td>\n",
       "      <td>NaN</td>\n",
       "    </tr>\n",
       "  </tbody>\n",
       "</table>\n",
       "</div>"
      ],
      "text/plain": [
       "           Fecha Movimiento  Importe                                          Más datos\n",
       "1623  06/04/2016        NaN   $-6.66                                                ...\n",
       "1625  05/04/2016        NaN $-559.42                                                ...\n",
       "1626  05/04/2016        NaN $-508.20                                                ...\n",
       "1627  05/04/2016        NaN  $-42.35                                                ...\n",
       "1632  01/04/2016        NaN $-111.19                                                ...\n",
       "1644  23/03/2016        NaN $-151.25                                                ...\n",
       "1664  18/03/2016        NaN  $-33.44                                                ...\n",
       "1665  18/03/2016        NaN  $-91.72                                                ...\n",
       "4968  23/03/2016        NaN $-151.25                                                ...\n",
       "9087  06/04/2016        NaN   $-3.33                                                ...\n",
       "9109  23/03/2016        NaN $-151.25                                                ...\n",
       "9300         NaN        NaN      NaN                                                NaN"
      ]
     },
     "execution_count": 26,
     "metadata": {},
     "output_type": "execute_result"
    }
   ],
   "source": [
    "# Step 3: Check for null values\n",
    "print(\"🔍 Null value count:\")\n",
    "print(df.isnull().sum())\n",
    "\n",
    "# Visualize rows with missing data (if any)\n",
    "df[df.isnull().any(axis=1)]"
   ]
  },
  {
   "cell_type": "code",
   "execution_count": 28,
   "metadata": {},
   "outputs": [
    {
     "name": "stdout",
     "output_type": "stream",
     "text": [
      "✅ Cleaned dataframe shape: (9289, 4)\n",
      "<class 'pandas.core.frame.DataFrame'>\n",
      "Index: 9289 entries, 0 to 9299\n",
      "Data columns (total 4 columns):\n",
      " #   Column      Non-Null Count  Dtype \n",
      "---  ------      --------------  ----- \n",
      " 0   Fecha       9289 non-null   object\n",
      " 1   Movimiento  9289 non-null   object\n",
      " 2   Importe     9289 non-null   object\n",
      " 3   Más datos   9289 non-null   object\n",
      "dtypes: object(4)\n",
      "memory usage: 362.9+ KB\n"
     ]
    }
   ],
   "source": [
    "# Step 4: Clean data\n",
    "# a) Strip spaces from column names\n",
    "df.columns = df.columns.str.strip()\n",
    "\n",
    "# b) Remove *all* whitespace characters (spaces, tabs, etc.) from each string cell\n",
    "for col in df.select_dtypes(include=\"object\").columns:\n",
    "    df[col] = df[col].apply(lambda x: re.sub(r\"\\s+\", \"\", str(x)) if pd.notnull(x) else x)\n",
    "\n",
    "# c) Drop rows with any missing values and convert to string\n",
    "df_clean = df.dropna()\n",
    "df_clean= df_clean.astype(str)\n",
    "\n",
    "print(f\"✅ Cleaned dataframe shape: {df_clean.shape}\")\n",
    "df_clean.info()"
   ]
  },
  {
   "cell_type": "code",
   "execution_count": 29,
   "metadata": {},
   "outputs": [
    {
     "name": "stdout",
     "output_type": "stream",
     "text": [
      "💾 File exported to ../data_sample/bancos/Movimientos_bancarios_preprocesado.xlsx\n"
     ]
    }
   ],
   "source": [
    "# Step 5: Export cleaned data\n",
    "output_path = \"../data_sample/bancos/Movimientos_bancarios_preprocesado.xlsx\"\n",
    "df_clean.to_excel(output_path, index=False)\n",
    "\n",
    "print(f\"💾 File exported to {output_path}\")\n"
   ]
  },
  {
   "cell_type": "markdown",
   "metadata": {},
   "source": [
    "### ✅ Preprocessing Complete\n",
    "\n",
    "The cleaned dataset is now ready for use in the accounting model.\n"
   ]
  }
 ],
 "metadata": {
  "kernelspec": {
   "display_name": "Python 3",
   "language": "python",
   "name": "python3"
  },
  "language_info": {
   "codemirror_mode": {
    "name": "ipython",
    "version": 3
   },
   "file_extension": ".py",
   "mimetype": "text/x-python",
   "name": "python",
   "nbconvert_exporter": "python",
   "pygments_lexer": "ipython3",
   "version": "3.12.6"
  }
 },
 "nbformat": 4,
 "nbformat_minor": 2
}
